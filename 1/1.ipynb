{
 "cells": [
  {
   "cell_type": "markdown",
   "metadata": {},
   "source": [
    "$$Name:Fernando I.A.M.D$$\n",
    "$$IndexNo:190172K$$"
   ]
  },
  {
   "cell_type": "code",
   "execution_count": 1,
   "metadata": {},
   "outputs": [],
   "source": [
    "import cv2\n",
    "import numpy as np\n",
    "import sympy\n",
    "import matplotlib.pyplot as plt"
   ]
  },
  {
   "cell_type": "markdown",
   "metadata": {},
   "source": [
    "$$1$$"
   ]
  },
  {
   "cell_type": "code",
   "execution_count": 3,
   "metadata": {},
   "outputs": [
    {
     "name": "stdout",
     "output_type": "stream",
     "text": [
      "1 : 1\n",
      "2 : 4\n",
      "3 : 9\n",
      "4 : 16\n",
      "5 : 25\n"
     ]
    }
   ],
   "source": [
    "for i in range(1,6):\n",
    "    print(i,':',i**2)"
   ]
  },
  {
   "cell_type": "markdown",
   "metadata": {},
   "source": [
    "$$2$$"
   ]
  },
  {
   "cell_type": "code",
   "execution_count": 4,
   "metadata": {},
   "outputs": [
    {
     "name": "stdout",
     "output_type": "stream",
     "text": [
      "1 : 1\n",
      "4 : 16\n"
     ]
    }
   ],
   "source": [
    "for i in range(1,6):\n",
    "    if not sympy.isprime(i):\n",
    "        print(i,':',i**2)"
   ]
  },
  {
   "cell_type": "markdown",
   "metadata": {},
   "source": [
    "$$3$$"
   ]
  },
  {
   "cell_type": "code",
   "execution_count": 14,
   "metadata": {},
   "outputs": [
    {
     "name": "stdout",
     "output_type": "stream",
     "text": [
      "1 : 1\n",
      "2 : 4\n",
      "3 : 9\n",
      "4 : 16\n",
      "5 : 25\n"
     ]
    }
   ],
   "source": [
    "squares = [i**2 for i in range(1,6)]\n",
    "for i,j in enumerate(squares,start = 1):\n",
    "    print(i,\":\",j)"
   ]
  },
  {
   "cell_type": "markdown",
   "metadata": {},
   "source": [
    "$$4$$"
   ]
  },
  {
   "cell_type": "code",
   "execution_count": 15,
   "metadata": {},
   "outputs": [
    {
     "name": "stdout",
     "output_type": "stream",
     "text": [
      "1 : 1\n",
      "4 : 16\n"
     ]
    }
   ],
   "source": [
    "for i,j in enumerate(squares,start = 1):\n",
    "    if not sympy.isprime(i):\n",
    "        print(i,\":\",j)"
   ]
  },
  {
   "cell_type": "markdown",
   "metadata": {},
   "source": [
    "$$5$$"
   ]
  },
  {
   "cell_type": "code",
   "execution_count": 17,
   "metadata": {},
   "outputs": [
    {
     "name": "stdout",
     "output_type": "stream",
     "text": [
      "[[ 9 12 15  9]\n",
      " [25 32 39 19]\n",
      " [41 52 63 29]]\n"
     ]
    }
   ],
   "source": [
    "#####    a    #####\n",
    "A = np.array([[1,2],\n",
    "              [3,4],\n",
    "              [5,6]])\n",
    "\n",
    "B = np.array([[7,8,9,1],\n",
    "              [1,2,3,4]])\n",
    "\n",
    "C = np.matmul(A,B)\n",
    "print(C)"
   ]
  },
  {
   "cell_type": "code",
   "execution_count": 18,
   "metadata": {},
   "outputs": [
    {
     "name": "stdout",
     "output_type": "stream",
     "text": [
      "[[ 3  4]\n",
      " [15 16]\n",
      " [15  6]]\n"
     ]
    }
   ],
   "source": [
    "#####    b    #####\n",
    "A = np.array([[1,2],\n",
    "              [3,4],\n",
    "              [5,6]])\n",
    "\n",
    "B = np.array([[3,2],\n",
    "              [5,4],\n",
    "              [3,1]])\n",
    "\n",
    "C = A*B\n",
    "print(C)"
   ]
  },
  {
   "cell_type": "markdown",
   "metadata": {},
   "source": [
    "$$6$$"
   ]
  },
  {
   "cell_type": "code",
   "execution_count": 28,
   "metadata": {},
   "outputs": [
    {
     "name": "stdout",
     "output_type": "stream",
     "text": [
      "[[ 2 10  5  0  5  6  0]\n",
      " [ 1  5  5  6  9  0  7]\n",
      " [ 7  1 10  4  4  3  8]\n",
      " [ 5  7  7  9  0  9  9]\n",
      " [ 7  9  2  5  1  3  8]]\n",
      "[[1 5]\n",
      " [7 1]\n",
      " [5 7]]\n",
      "size of resulting array: 6\n"
     ]
    }
   ],
   "source": [
    "A = np.random.randint(0,11,(5,7))\n",
    "print(A)\n",
    "B = A[1:4,:2]\n",
    "print(B)\n",
    "print(\"size of resulting array:\",np.size(B))\n"
   ]
  },
  {
   "cell_type": "markdown",
   "metadata": {},
   "source": [
    "$$7$$"
   ]
  },
  {
   "cell_type": "code",
   "execution_count": 33,
   "metadata": {},
   "outputs": [
    {
     "name": "stdout",
     "output_type": "stream",
     "text": [
      "[[ 2  3  4  5]\n",
      " [ 7  8  9 10]\n",
      " [12  4  5  6]\n",
      " [ 8  9 10 11]]\n"
     ]
    }
   ],
   "source": [
    "#Broadcasting examples\n",
    "#1 Vertical \n",
    "A = np.array([[1],          #4x1\n",
    "              [2],\n",
    "              [3],\n",
    "              [4]])     \n",
    "B = np.array([[1,2,3,4],     #4x4\n",
    "              [5,6,7,8],\n",
    "              [9,1,2,3],\n",
    "              [4,5,6,7]])\n",
    "\n",
    "C = A+B\n",
    "print(C)"
   ]
  },
  {
   "cell_type": "code",
   "execution_count": 37,
   "metadata": {},
   "outputs": [
    {
     "name": "stdout",
     "output_type": "stream",
     "text": [
      "[[ 2  4  6]\n",
      " [ 5  7  9]\n",
      " [ 8 10 12]]\n"
     ]
    }
   ],
   "source": [
    "#2 Horizonal\n",
    "A = np.array([1,2,3])           #1x3\n",
    "B = np.array([[1,2,3],          #3x3\n",
    "              [4,5,6],\n",
    "              [7,8,9]])     \n",
    "\n",
    "C = A+B\n",
    "print(C)\n"
   ]
  },
  {
   "cell_type": "code",
   "execution_count": 38,
   "metadata": {},
   "outputs": [
    {
     "name": "stdout",
     "output_type": "stream",
     "text": [
      "[[ 2  3  4]\n",
      " [ 5  6  7]\n",
      " [ 8  9 10]]\n"
     ]
    }
   ],
   "source": [
    "#3 Vertical and horizontal\n",
    "A = np.array([1])               #1x1\n",
    "B = np.array([[1,2,3],          #3x3\n",
    "              [4,5,6],\n",
    "              [7,8,9]])\n",
    "\n",
    "C = A+B\n",
    "print(C)\n"
   ]
  },
  {
   "cell_type": "markdown",
   "metadata": {},
   "source": [
    "$$8$$"
   ]
  },
  {
   "cell_type": "code",
   "execution_count": 106,
   "metadata": {},
   "outputs": [
    {
     "name": "stdout",
     "output_type": "stream",
     "text": [
      "[[1. 0.]\n",
      " [1. 1.]\n",
      " [1. 2.]\n",
      " [1. 3.]\n",
      " [1. 4.]\n",
      " [1. 5.]\n",
      " [1. 6.]\n",
      " [1. 7.]\n",
      " [1. 8.]\n",
      " [1. 9.]]\n"
     ]
    }
   ],
   "source": [
    "#####    a    #####\n",
    "m, c = 2 , -4\n",
    "N = 10\n",
    "x = np . linspace (0 , N-1, N) . reshape (N, 1 )\n",
    "sigma = 10\n",
    "y = m*x + c + np . random . normal (0 , sigma , (N, 1 ) )\n",
    "\n",
    "x1 = np.ones(np.shape(x),int)\n",
    "X = np.hstack((x1,x))\n",
    "print(X)"
   ]
  },
  {
   "cell_type": "code",
   "execution_count": 107,
   "metadata": {},
   "outputs": [
    {
     "name": "stdout",
     "output_type": "stream",
     "text": [
      "[[ 4.85758636]\n",
      " [-0.23807311]]\n"
     ]
    }
   ],
   "source": [
    "#####    b    #####\n",
    "Z = np.matmul(np.matmul(np.linalg.inv(np.matmul(np.transpose(X),X)),np.transpose(X)),y)\n",
    "print(Z)"
   ]
  },
  {
   "cell_type": "markdown",
   "metadata": {},
   "source": [
    "$$9$$"
   ]
  },
  {
   "cell_type": "code",
   "execution_count": 102,
   "metadata": {},
   "outputs": [],
   "source": [
    "#####    a    #####\n",
    "def squareRoot(x):\n",
    "    n=0\n",
    "    alpha=0\n",
    "    while True:\n",
    "        for a in range(1,101):\n",
    "            y = a*(10**(2*n))\n",
    "            if x == y:\n",
    "                alpha = a\n",
    "                break\n",
    "        if alpha != 0 :\n",
    "            break\n",
    "        n=n+1\n",
    "\n",
    "    rootx = ((-190/(alpha+20))+10)*(10**n)\n",
    "    return rootx\n",
    "\n",
    "#####    b    #####\n",
    "def NewtonR(pres,a0,x):\n",
    "    RS = (a0**2)-x\n",
    "    RS1 = 2*a0\n",
    "    a1 = a0 - (RS/RS1)\n",
    "    if abs(a1-a0)<pres:\n",
    "        return a1\n",
    "    else:\n",
    "        return NewtonR(pres,a1,x)\n",
    "\n"
   ]
  },
  {
   "cell_type": "code",
   "execution_count": 108,
   "metadata": {},
   "outputs": [
    {
     "name": "stdout",
     "output_type": "stream",
     "text": [
      "S: 64,s0 = 7.738095238095238,Newton-Raphson method: 8.000000000000094\n",
      "S: 75,s0 = 8.0,Newton-Raphson method: 8.660254037844386\n",
      "S: 100,s0 = 8.416666666666666,Newton-Raphson method: 10.0\n",
      "S: 1600,s0 = 47.22222222222222,Newton-Raphson method: 40.0\n"
     ]
    }
   ],
   "source": [
    "#####    c    #####\n",
    "x = [64,75,100,1600]\n",
    "for i in x:\n",
    "    a0 = squareRoot(i)\n",
    "    print(\"S:\",i,end=',')\n",
    "    print(\"s0 =\",a0,end=',')\n",
    "    print(\"Newton-Raphson method:\",NewtonR(0.00001,a0,i))  #precision = 10^-5"
   ]
  },
  {
   "cell_type": "markdown",
   "metadata": {},
   "source": [
    "$$10$$"
   ]
  },
  {
   "cell_type": "code",
   "execution_count": 4,
   "metadata": {},
   "outputs": [],
   "source": [
    "img = cv2.imread(\"gal_gaussian.png\")\n",
    "blur = cv2.GaussianBlur(img,(99,99),0)\n",
    "\n",
    "cv2.namedWindow(\"image\",cv2.WINDOW_AUTOSIZE)\n",
    "cv2.imshow(\"image\",img)\n",
    "cv2.waitKey(0)\n",
    "cv2.imshow(\"blurred image\",blur)\n",
    "cv2.waitKey(0)\n",
    "cv2.destroyAllWindows()"
   ]
  },
  {
   "cell_type": "markdown",
   "metadata": {},
   "source": [
    "$$11$$"
   ]
  },
  {
   "cell_type": "code",
   "execution_count": 52,
   "metadata": {},
   "outputs": [],
   "source": [
    "img = cv2.imread(\"gal_sandp.png\")\n",
    "blur = cv2.medianBlur(img,5)\n",
    "\n",
    "cv2.namedWindow(\"image\",cv2.WINDOW_AUTOSIZE)\n",
    "cv2.imshow(\"image\",img)\n",
    "cv2.waitKey(0)\n",
    "cv2.imshow(\"blurred image\",blur)\n",
    "cv2.waitKey(0)\n",
    "cv2.destroyAllWindows()"
   ]
  },
  {
   "cell_type": "markdown",
   "metadata": {},
   "source": [
    "$$12$$"
   ]
  },
  {
   "cell_type": "code",
   "execution_count": 60,
   "metadata": {},
   "outputs": [
    {
     "data": {
      "image/png": "[encoded data removed]",
      "text/plain": [
       "<Figure size 432x288 with 1 Axes>"
      ]
     },
     "metadata": {
      "needs_background": "light"
     },
     "output_type": "display_data"
    }
   ],
   "source": [
    "img = np.zeros((40,60),dtype=np.uint8)\n",
    "img[0:21,30:] = 125\n",
    "\n",
    "plt.imshow(img,cmap='gray',vmin=0,vmax=255)\n",
    "plt.show()"
   ]
  },
  {
   "cell_type": "markdown",
   "metadata": {},
   "source": [
    "$$13$$"
   ]
  },
  {
   "cell_type": "code",
   "execution_count": 6,
   "metadata": {},
   "outputs": [
    {
     "data": {
      "image/png": "[encoded data removed]",
      "text/plain": [
       "<Figure size 432x288 with 1 Axes>"
      ]
     },
     "metadata": {
      "needs_background": "light"
     },
     "output_type": "display_data"
    }
   ],
   "source": [
    "img = np.random.randint(0,256,(40,60,3),dtype=np.uint8)\n",
    "img[20:,0:31,:] = (218,24,132)\n",
    "\n",
    "plt.imshow(img,cmap='pink',vmin=0,vmax=255)\n",
    "plt.show()"
   ]
  },
  {
   "cell_type": "markdown",
   "metadata": {},
   "source": [
    "$$14$$"
   ]
  },
  {
   "cell_type": "code",
   "execution_count": 76,
   "metadata": {},
   "outputs": [],
   "source": [
    "img = cv2.imread(\"tom_dark.jpg\")\n",
    "bright = img+50\n",
    "\n",
    "cv2.namedWindow(\"image\",cv2.WINDOW_AUTOSIZE)\n",
    "cv2.imshow(\"image\",img)\n",
    "cv2.waitKey(0)\n",
    "cv2.imshow(\"bright image\",bright)\n",
    "cv2.waitKey(0)\n",
    "cv2.destroyAllWindows()"
   ]
  }
 ],
 "metadata": {
  "interpreter": {
   "hash": "9f0cf7f1ebc58de8ec289ab4cf29cb9f6f31252f92b460fcb9be6cd691285b83"
  },
  "kernelspec": {
   "display_name": "Python 3.9.1 64-bit (system)",
   "language": "python",
   "name": "python3"
  },
  "language_info": {
   "codemirror_mode": {
    "name": "ipython",
    "version": 3
   },
   "file_extension": ".py",
   "mimetype": "text/x-python",
   "name": "python",
   "nbconvert_exporter": "python",
   "pygments_lexer": "ipython3",
   "version": "3.9.1"
  },
  "orig_nbformat": 4
 },
 "nbformat": 4,
 "nbformat_minor": 2
}
